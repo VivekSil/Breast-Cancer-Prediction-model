{
  "nbformat": 4,
  "nbformat_minor": 0,
  "metadata": {
    "colab": {
      "name": "BreastCancerPredictionUsingKerasTest.ipynb",
      "provenance": [],
      "collapsed_sections": []
    },
    "kernelspec": {
      "name": "python3",
      "display_name": "Python 3"
    }
  },
  "cells": [
    {
      "cell_type": "markdown",
      "metadata": {
        "id": "HAqzR9PUw3Uw",
        "colab_type": "text"
      },
      "source": [
        "# Breast Cancer Prediction model\n",
        "---\n",
        "This is a breast cancer prediction model , which can used for predicting breast cancer using the histopathological image.\n",
        "It is trained using a dataset with 5000 test cases of histopathological image data .\n",
        "The dataset is available on https://www.kaggle.com/simjeg/lymphoma-subtype-classification-fl-vs-cll\n",
        "\n",
        "Each image is of 50px*50px"
      ]
    },
    {
      "cell_type": "code",
      "metadata": {
        "id": "LztQpDftxvHh",
        "colab_type": "code",
        "colab": {}
      },
      "source": [
        "import tensorflow as tf\n",
        "import numpy as np\n",
        "import matplotlib.pyplot as plt\n",
        "import train_data\n",
        "import test_data"
      ],
      "execution_count": 15,
      "outputs": []
    },
    {
      "cell_type": "code",
      "metadata": {
        "id": "Z8Z8lXIhx2s7",
        "colab_type": "code",
        "colab": {
          "base_uri": "https://localhost:8080/",
          "height": 298
        },
        "outputId": "a0220c93-2d0b-4006-fd19-f936bbced7d7"
      },
      "source": [
        "#Retrieving the data for training and testing \n",
        "training_images,training_labels = train_data.get_data()\n",
        "testing_images,testing_labels = test_data.get_data()\n",
        "#Displaying the histopathological image\n",
        "plt.title('Histopathological Image',fontsize=16,fontweight =\"bold\",color=\"blue\")\n",
        "plt.imshow(training_images[100])"
      ],
      "execution_count": 18,
      "outputs": [
        {
          "output_type": "execute_result",
          "data": {
            "text/plain": [
              "<matplotlib.image.AxesImage at 0x7f9be45cfd30>"
            ]
          },
          "metadata": {
            "tags": []
          },
          "execution_count": 18
        },
        {
          "output_type": "display_data",
          "data": {
            "image/png": "[encoded data removed]",
            "text/plain": [
              "<Figure size 432x288 with 1 Axes>"
            ]
          },
          "metadata": {
            "tags": [],
            "needs_background": "light"
          }
        }
      ]
    },
    {
      "cell_type": "code",
      "metadata": {
        "id": "8yZht8V5ggZC",
        "colab_type": "code",
        "colab": {
          "base_uri": "https://localhost:8080/",
          "height": 1000
        },
        "outputId": "4ef3765d-4397-4219-f186-edd31f3fa53f"
      },
      "source": [
        "#Representing rgb data into 0-1 range\n",
        "training_images=training_images/255.0\n",
        "testing_images=testing_images/255.0\n",
        "#Creating a model\n",
        "model = tf.keras.models.Sequential([\n",
        "  tf.keras.layers.Flatten(),\n",
        "  tf.keras.layers.Dense(512, activation='relu'),\n",
        "  tf.keras.layers.Dense(512, activation='relu'),\n",
        "  tf.keras.layers.Dense(128, activation='relu'),\n",
        "  tf.keras.layers.Dense(10, activation='softmax')\n",
        "])\n",
        "#Adding optimizer,lossfunction \n",
        "model.compile(optimizer='adam', loss='sparse_categorical_crossentropy', metrics=['accuracy'])\n",
        "#Training the model\n",
        "model.fit(training_images, training_labels, epochs=50)\n",
        "#Testing the model\n",
        "test_loss, test_accuracy = model.evaluate(testing_images, testing_labels)\n",
        "#Loss and Accuracy\n",
        "print ('Test loss: {}, Test accuracy: {}%'.format(test_loss, test_accuracy*100))"
      ],
      "execution_count": 17,
      "outputs": [
        {
          "output_type": "stream",
          "text": [
            "Epoch 1/50\n",
            "157/157 [==============================] - 4s 28ms/step - loss: 1.0658 - accuracy: 0.5364\n",
            "Epoch 2/50\n",
            "157/157 [==============================] - 4s 27ms/step - loss: 0.6414 - accuracy: 0.6262\n",
            "Epoch 3/50\n",
            "157/157 [==============================] - 4s 28ms/step - loss: 0.6238 - accuracy: 0.6646\n",
            "Epoch 4/50\n",
            "157/157 [==============================] - 4s 28ms/step - loss: 0.5952 - accuracy: 0.6900\n",
            "Epoch 5/50\n",
            "157/157 [==============================] - 4s 28ms/step - loss: 0.6111 - accuracy: 0.6722\n",
            "Epoch 6/50\n",
            "157/157 [==============================] - 4s 27ms/step - loss: 0.5715 - accuracy: 0.7176\n",
            "Epoch 7/50\n",
            "157/157 [==============================] - 4s 28ms/step - loss: 0.5559 - accuracy: 0.7218\n",
            "Epoch 8/50\n",
            "157/157 [==============================] - 4s 28ms/step - loss: 0.5691 - accuracy: 0.7124\n",
            "Epoch 9/50\n",
            "157/157 [==============================] - 4s 27ms/step - loss: 0.5640 - accuracy: 0.7210\n",
            "Epoch 10/50\n",
            "157/157 [==============================] - 4s 28ms/step - loss: 0.5679 - accuracy: 0.7156\n",
            "Epoch 11/50\n",
            "157/157 [==============================] - 4s 28ms/step - loss: 0.5525 - accuracy: 0.7262\n",
            "Epoch 12/50\n",
            "157/157 [==============================] - 4s 28ms/step - loss: 0.5502 - accuracy: 0.7310\n",
            "Epoch 13/50\n",
            "157/157 [==============================] - 4s 27ms/step - loss: 0.5553 - accuracy: 0.7248\n",
            "Epoch 14/50\n",
            "157/157 [==============================] - 4s 28ms/step - loss: 0.5400 - accuracy: 0.7376\n",
            "Epoch 15/50\n",
            "157/157 [==============================] - 4s 28ms/step - loss: 0.5324 - accuracy: 0.7448\n",
            "Epoch 16/50\n",
            "157/157 [==============================] - 4s 28ms/step - loss: 0.5462 - accuracy: 0.7366\n",
            "Epoch 17/50\n",
            "157/157 [==============================] - 4s 28ms/step - loss: 0.5535 - accuracy: 0.7290\n",
            "Epoch 18/50\n",
            "157/157 [==============================] - 4s 28ms/step - loss: 0.5326 - accuracy: 0.7406\n",
            "Epoch 19/50\n",
            "157/157 [==============================] - 4s 27ms/step - loss: 0.5382 - accuracy: 0.7382\n",
            "Epoch 20/50\n",
            "157/157 [==============================] - 4s 28ms/step - loss: 0.5222 - accuracy: 0.7546\n",
            "Epoch 21/50\n",
            "157/157 [==============================] - 4s 27ms/step - loss: 0.5281 - accuracy: 0.7500\n",
            "Epoch 22/50\n",
            "157/157 [==============================] - 4s 27ms/step - loss: 0.5317 - accuracy: 0.7510\n",
            "Epoch 23/50\n",
            "157/157 [==============================] - 4s 28ms/step - loss: 0.5162 - accuracy: 0.7492\n",
            "Epoch 24/50\n",
            "157/157 [==============================] - 4s 28ms/step - loss: 0.5140 - accuracy: 0.7516\n",
            "Epoch 25/50\n",
            "157/157 [==============================] - 5s 31ms/step - loss: 0.5177 - accuracy: 0.7504\n",
            "Epoch 26/50\n",
            "157/157 [==============================] - 5s 30ms/step - loss: 0.5069 - accuracy: 0.7644\n",
            "Epoch 27/50\n",
            "157/157 [==============================] - 4s 28ms/step - loss: 0.5252 - accuracy: 0.7462\n",
            "Epoch 28/50\n",
            "157/157 [==============================] - 4s 27ms/step - loss: 0.5126 - accuracy: 0.7566\n",
            "Epoch 29/50\n",
            "157/157 [==============================] - 4s 27ms/step - loss: 0.5100 - accuracy: 0.7586\n",
            "Epoch 30/50\n",
            "157/157 [==============================] - 4s 28ms/step - loss: 0.5161 - accuracy: 0.7580\n",
            "Epoch 31/50\n",
            "157/157 [==============================] - 4s 27ms/step - loss: 0.5275 - accuracy: 0.7458\n",
            "Epoch 32/50\n",
            "157/157 [==============================] - 4s 28ms/step - loss: 0.5197 - accuracy: 0.7520\n",
            "Epoch 33/50\n",
            "157/157 [==============================] - 4s 27ms/step - loss: 0.5202 - accuracy: 0.7554\n",
            "Epoch 34/50\n",
            "157/157 [==============================] - 4s 28ms/step - loss: 0.5186 - accuracy: 0.7514\n",
            "Epoch 35/50\n",
            "157/157 [==============================] - 4s 28ms/step - loss: 0.4987 - accuracy: 0.7668\n",
            "Epoch 36/50\n",
            "157/157 [==============================] - 4s 28ms/step - loss: 0.4994 - accuracy: 0.7656\n",
            "Epoch 37/50\n",
            "157/157 [==============================] - 4s 28ms/step - loss: 0.5036 - accuracy: 0.7606\n",
            "Epoch 38/50\n",
            "157/157 [==============================] - 4s 27ms/step - loss: 0.4983 - accuracy: 0.7646\n",
            "Epoch 39/50\n",
            "157/157 [==============================] - 4s 28ms/step - loss: 0.5270 - accuracy: 0.7508\n",
            "Epoch 40/50\n",
            "157/157 [==============================] - 4s 28ms/step - loss: 0.4908 - accuracy: 0.7674\n",
            "Epoch 41/50\n",
            "157/157 [==============================] - 4s 28ms/step - loss: 0.5453 - accuracy: 0.7292\n",
            "Epoch 42/50\n",
            "157/157 [==============================] - 4s 28ms/step - loss: 0.5166 - accuracy: 0.7574\n",
            "Epoch 43/50\n",
            "157/157 [==============================] - 4s 28ms/step - loss: 0.5129 - accuracy: 0.7552\n",
            "Epoch 44/50\n",
            "157/157 [==============================] - 4s 28ms/step - loss: 0.5078 - accuracy: 0.7602\n",
            "Epoch 45/50\n",
            "157/157 [==============================] - 4s 28ms/step - loss: 0.5013 - accuracy: 0.7654\n",
            "Epoch 46/50\n",
            "157/157 [==============================] - 5s 32ms/step - loss: 0.4970 - accuracy: 0.7708\n",
            "Epoch 47/50\n",
            "157/157 [==============================] - 5s 32ms/step - loss: 0.4921 - accuracy: 0.7694\n",
            "Epoch 48/50\n",
            "157/157 [==============================] - 5s 30ms/step - loss: 0.4967 - accuracy: 0.7680\n",
            "Epoch 49/50\n",
            "157/157 [==============================] - 5s 32ms/step - loss: 0.4862 - accuracy: 0.7730\n",
            "Epoch 50/50\n",
            "157/157 [==============================] - 5s 29ms/step - loss: 0.4967 - accuracy: 0.7670\n",
            "18/18 [==============================] - 0s 9ms/step - loss: 0.4691 - accuracy: 0.8044\n",
            "Test loss: 0.4691423177719116, Test accuracy: 80.43875694274902%\n"
          ],
          "name": "stdout"
        }
      ]
    },
    {
      "cell_type": "code",
      "metadata": {
        "id": "8ke8yqPIiwAX",
        "colab_type": "code",
        "colab": {}
      },
      "source": [
        ""
      ],
      "execution_count": 17,
      "outputs": []
    },
    {
      "cell_type": "code",
      "metadata": {
        "id": "XLPn99oK4pqj",
        "colab_type": "code",
        "colab": {}
      },
      "source": [
        ""
      ],
      "execution_count": 17,
      "outputs": []
    }
  ]
}